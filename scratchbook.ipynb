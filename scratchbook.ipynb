{
 "cells": [
  {
   "cell_type": "code",
   "execution_count": 1,
   "id": "982fb152",
   "metadata": {},
   "outputs": [],
   "source": [
    "import numpy as np"
   ]
  },
  {
   "cell_type": "code",
   "execution_count": 8,
   "id": "f4441d22",
   "metadata": {},
   "outputs": [
    {
     "data": {
      "text/plain": [
       "array([-1.42857143,  0.        ])"
      ]
     },
     "execution_count": 8,
     "metadata": {},
     "output_type": "execute_result"
    }
   ],
   "source": [
    "predicted= np.array([0.7, 0.3])\n",
    "actual = np.array([1, 0])\n",
    "\n",
    "-actual/predicted # gradient for cnn"
   ]
  },
  {
   "cell_type": "code",
   "execution_count": null,
   "id": "a6dc5976",
   "metadata": {},
   "outputs": [],
   "source": [
    "import re\n",
    "\n",
    "class ExpandWords:\n",
    "    def expand(self, key_maps, text_list):\n",
    "        # 1. Iterate through the text_list\n",
    "        for i in range(len(text_list)):\n",
    "            # 2. For each key in the dictionary\n",
    "            for contraction, expansion in key_maps.items():\n",
    "                # 3. Replace the contractions in the current sentence (in text_list)\n",
    "                # with the values in the key_maps corresponding to that contraction.\n",
    "                # Use word boundaries to ensure we match whole words only\n",
    "                pattern = r'\\b' + re.escape(contraction) + r'\\b'\n",
    "                text_list[i] = re.sub(pattern, expansion, text_list[i], flags=re.IGNORECASE)\n",
    "    \n",
    "        return \"\\n\".join(text_list)"
   ]
  },
  {
   "cell_type": "code",
   "execution_count": null,
   "id": "ccaf3bbf",
   "metadata": {},
   "outputs": [],
   "source": []
  }
 ],
 "metadata": {
  "kernelspec": {
   "display_name": "venv",
   "language": "python",
   "name": "python3"
  },
  "language_info": {
   "codemirror_mode": {
    "name": "ipython",
    "version": 3
   },
   "file_extension": ".py",
   "mimetype": "text/x-python",
   "name": "python",
   "nbconvert_exporter": "python",
   "pygments_lexer": "ipython3",
   "version": "3.12.3"
  }
 },
 "nbformat": 4,
 "nbformat_minor": 5
}

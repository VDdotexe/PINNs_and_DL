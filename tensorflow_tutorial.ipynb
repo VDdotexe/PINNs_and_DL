{
 "cells": [
  {
   "cell_type": "code",
   "execution_count": 25,
   "id": "256285d7",
   "metadata": {},
   "outputs": [],
   "source": [
    "import tensorflow as tf\n",
    "import numpy as np\n",
    "import matplotlib.pyplot as plt\n",
    "from IPython.display import clear_output\n",
    "\n",
    "import tensorflow.compat.v2.feature_column as fc"
   ]
  },
  {
   "cell_type": "code",
   "execution_count": 26,
   "id": "74512549",
   "metadata": {},
   "outputs": [],
   "source": [
    "string = tf.Variable(\"this is a string\", tf.string)\n",
    "number= tf.Variable(324, tf.int16)\n",
    "floating = tf.Variable(3.567, tf.float64)"
   ]
  },
  {
   "cell_type": "code",
   "execution_count": 27,
   "id": "d6ebd4b8",
   "metadata": {},
   "outputs": [],
   "source": [
    "rank1_tensor = tf.Variable([\"test\", \"ok\", \"vipul\"], tf.string)\n",
    "rank2_tensor= tf.Variable([['test', 'ok'], [\"test1\", \"yes\"]], tf.string)"
   ]
  },
  {
   "cell_type": "code",
   "execution_count": 28,
   "id": "e3d1f622",
   "metadata": {},
   "outputs": [
    {
     "data": {
      "text/plain": [
       "(<tf.Tensor: shape=(), dtype=int32, numpy=1>,\n",
       " <tf.Tensor: shape=(), dtype=int32, numpy=2>,\n",
       " <tf.Tensor: shape=(), dtype=int32, numpy=0>)"
      ]
     },
     "execution_count": 28,
     "metadata": {},
     "output_type": "execute_result"
    }
   ],
   "source": [
    "tf.rank(rank1_tensor), tf.rank(rank2_tensor), tf.rank(number)"
   ]
  },
  {
   "cell_type": "code",
   "execution_count": 29,
   "id": "a61d0689",
   "metadata": {},
   "outputs": [
    {
     "data": {
      "text/plain": [
       "(TensorShape([3]), TensorShape([2, 2]), TensorShape([]))"
      ]
     },
     "execution_count": 29,
     "metadata": {},
     "output_type": "execute_result"
    }
   ],
   "source": [
    "rank1_tensor.shape, rank2_tensor.shape, number.shape"
   ]
  },
  {
   "cell_type": "code",
   "execution_count": 30,
   "id": "5203da26",
   "metadata": {},
   "outputs": [
    {
     "name": "stdout",
     "output_type": "stream",
     "text": [
      "tf.Tensor(\n",
      "[[[1. 1. 1.]\n",
      "  [1. 1. 1.]]], shape=(1, 2, 3), dtype=float32)\n",
      "--------------------\n",
      "tf.Tensor(\n",
      "[[[1.]\n",
      "  [1.]\n",
      "  [1.]]\n",
      "\n",
      " [[1.]\n",
      "  [1.]\n",
      "  [1.]]], shape=(2, 3, 1), dtype=float32)\n",
      "--------------------\n",
      "tf.Tensor(\n",
      "[[1. 1.]\n",
      " [1. 1.]\n",
      " [1. 1.]], shape=(3, 2), dtype=float32)\n"
     ]
    }
   ],
   "source": [
    "tensor1 = tf.ones([1,2,3])\n",
    "tensor2 = tf.reshape(tensor1, shape=[2,3,1])\n",
    "tensor3 = tf.reshape(tensor2, shape= [3, -1])\n",
    "print(tensor1)\n",
    "print(\"--------------------\")\n",
    "print(tensor2)\n",
    "print(\"--------------------\")\n",
    "print(tensor3)"
   ]
  },
  {
   "cell_type": "code",
   "execution_count": 31,
   "id": "ad521948",
   "metadata": {},
   "outputs": [],
   "source": [
    "# t = tf.zeros([5,5,5,5])\n",
    "# t"
   ]
  },
  {
   "cell_type": "code",
   "execution_count": 32,
   "id": "9568355a",
   "metadata": {},
   "outputs": [],
   "source": [
    "# t= tf.reshape(t, shape= [625])\n",
    "# t"
   ]
  },
  {
   "cell_type": "code",
   "execution_count": 33,
   "id": "a495d9bf",
   "metadata": {},
   "outputs": [],
   "source": [
    "# t= tf.reshape(t, shape= [125, -1])\n",
    "# t"
   ]
  },
  {
   "cell_type": "markdown",
   "id": "86f4c0ae",
   "metadata": {},
   "source": [
    "####\n",
    "Tensorflow core learning algorithms"
   ]
  },
  {
   "cell_type": "code",
   "execution_count": 34,
   "id": "76c42f62",
   "metadata": {},
   "outputs": [],
   "source": [
    "## Linear Regression\n"
   ]
  },
  {
   "cell_type": "code",
   "execution_count": null,
   "id": "a18466bc",
   "metadata": {},
   "outputs": [],
   "source": []
  },
  {
   "cell_type": "code",
   "execution_count": null,
   "id": "90f6e3e0",
   "metadata": {},
   "outputs": [],
   "source": []
  }
 ],
 "metadata": {
  "kernelspec": {
   "display_name": "venv",
   "language": "python",
   "name": "python3"
  },
  "language_info": {
   "codemirror_mode": {
    "name": "ipython",
    "version": 3
   },
   "file_extension": ".py",
   "mimetype": "text/x-python",
   "name": "python",
   "nbconvert_exporter": "python",
   "pygments_lexer": "ipython3",
   "version": "3.12.3"
  }
 },
 "nbformat": 4,
 "nbformat_minor": 5
}

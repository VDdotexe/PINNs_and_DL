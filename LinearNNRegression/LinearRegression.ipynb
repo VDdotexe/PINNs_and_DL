{
 "cells": [
  {
   "cell_type": "code",
   "execution_count": null,
   "id": "05df477e",
   "metadata": {},
   "outputs": [],
   "source": []
  },
  {
   "cell_type": "code",
   "execution_count": null,
   "id": "17c98e5a",
   "metadata": {},
   "outputs": [],
   "source": []
  }
 ],
 "metadata": {
  "language_info": {
   "name": "python"
  }
 },
 "nbformat": 4,
 "nbformat_minor": 5
}
